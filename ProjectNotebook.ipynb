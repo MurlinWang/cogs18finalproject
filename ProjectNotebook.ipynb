{
 "cells": [
  {
   "cell_type": "markdown",
   "metadata": {},
   "source": [
    "# Project Description"
   ]
  },
  {
   "cell_type": "markdown",
   "metadata": {},
   "source": [
    "My project is a fun game that invoke the user to remember a series of phone numbers \n",
    "The idea comes from A4 Artificial Inteligence. I created a class called button that\n",
    "function similiar to the wanderBot.\n",
    "\n",
    "Here is how it goes:\n",
    "1. print out a number plate, and different number would turn red for five times at first.\n",
    "2. user has three seconds to remember the number series that just turned red\n",
    "3. type in the number series currectly would lead the user to the next game\n",
    "4. as more games user played, more numbers the user need to remember and those numbers would also\n",
    "   turn red more quickly\n",
    "  \n",
    "Citation:\n",
    "The countDown function comes from:\n",
    "stack overflow: https://stackoverflow.com/questions/25189554/countdown-clock-0105\n",
    "The color class comes from:\n",
    "https://stackoverflow.com/questions/8924173/how-do-i-print-bold-text-in-python\n"
   ]
  },
  {
   "cell_type": "markdown",
   "metadata": {},
   "source": [
    "## Project Code\n",
    "\n",
    "If it makes sense for your project, you can have code and outputs here in the notebook as well."
   ]
  },
  {
   "cell_type": "code",
   "execution_count": 20,
   "metadata": {},
   "outputs": [],
   "source": [
    "from my_module import functions\n"
   ]
  },
  {
   "cell_type": "code",
   "execution_count": 21,
   "metadata": {},
   "outputs": [
    {
     "name": "stdout",
     "output_type": "stream",
     "text": [
      "Start timing!\n",
      "Enter your answer: 25697\n",
      "25697\n",
      "Well done!\n",
      "Keep palying? press 'y' to continue, 'n' to stopn\n"
     ]
    }
   ],
   "source": [
    "\n",
    "\n",
    "num_games = 0\n",
    "button = Button()\n",
    "main_board = buttonBoard()\n",
    "red = color()\n",
    "stop = True\n",
    "while stop:\n",
    "    \n",
    "    new_iter = main_board.n_iter + num_games\n",
    "    new_freq = main_board.sleep_time - 0.1 *(num_games / 2)   \n",
    "    key = main_board.board(new_iter, new_freq, button, red)\n",
    "    main_board.clean() \n",
    "    clear_output(True)\n",
    "    print(\"Start timing!\")\n",
    "    count_down(3)\n",
    "    user_answer = str(input('Enter your answer: '))\n",
    "    answer_key = ''\n",
    "    for i in key:\n",
    "        answer_key = answer_key + i\n",
    "    print(answer_key)\n",
    "    if user_answer == answer_key:\n",
    "        print(\"Well done!\")\n",
    "        while True:\n",
    "            try:\n",
    "                x = input(\"Keep palying? press 'y' to continue, 'n' to stop\")\n",
    "                break\n",
    "            except ValueError:\n",
    "                print(\"Oops!  That was no valid letter.  Try again...\")\n",
    "        if x == 'y' or x == 'Y':\n",
    "            num_games += 1\n",
    "            print(num_games)\n",
    "            continue\n",
    "        if x == 'n' or x == 'N':\n",
    "            stop = False\n",
    "            clear_output(True)\n",
    "            break\n",
    "    else:\n",
    "        print(\"Oops, wrong answer! See you next time!\")\n",
    "        print(\"The right answer is \" + answer_key)\n",
    "        break\n",
    "        "
   ]
  },
  {
   "cell_type": "code",
   "execution_count": null,
   "metadata": {},
   "outputs": [],
   "source": []
  }
 ],
 "metadata": {
  "kernelspec": {
   "display_name": "Python 3",
   "language": "python",
   "name": "python3"
  },
  "language_info": {
   "codemirror_mode": {
    "name": "ipython",
    "version": 3
   },
   "file_extension": ".py",
   "mimetype": "text/x-python",
   "name": "python",
   "nbconvert_exporter": "python",
   "pygments_lexer": "ipython3",
   "version": "3.6.7"
  }
 },
 "nbformat": 4,
 "nbformat_minor": 2
}
